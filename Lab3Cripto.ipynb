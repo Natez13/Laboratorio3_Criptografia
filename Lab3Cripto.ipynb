{
  "nbformat": 4,
  "nbformat_minor": 0,
  "metadata": {
    "colab": {
      "name": "Lab3Cripto.ipynb",
      "provenance": [],
      "collapsed_sections": [],
      "toc_visible": true
    },
    "kernelspec": {
      "name": "python3",
      "display_name": "Python 3"
    },
    "language_info": {
      "name": "python"
    }
  },
  "cells": [
    {
      "cell_type": "markdown",
      "source": [
        "# Guia de Ejecucion\n",
        "\n",
        "\n",
        "\n",
        "1.   Ejecutar el Codigo de la Seccion de Hash (Con el fin de cargar las funciones del Hash)\n",
        "2.   Ejecutar el Codigo de la Seccion de Medidores (Con el fin de cargar las funciones para realizar las comparativas)\n",
        "3.   Ejecutar Codigo de Seccion de Programa (Con wl fin de poder probar el programa)\n",
        "\n"
      ],
      "metadata": {
        "id": "FL858babnAjJ"
      }
    },
    {
      "cell_type": "markdown",
      "source": [
        "## Codigo Hash"
      ],
      "metadata": {
        "id": "OFFelXqPIIgy"
      }
    },
    {
      "cell_type": "code",
      "source": [
        "def shift(text,n):\n",
        "  result = (text * 3)[len(text) + n : 2 * len(text) + n]\n",
        "  return result\n",
        "\n",
        "\n",
        "def Padding(text):\n",
        "  pad = \"bhijklcdsx\"\n",
        "  text_w_pad = text+pad\n",
        "  result=[text_w_pad[y-10:y] for y in range(10, len(text_w_pad)+10,10)]\n",
        "  return result[0]\n",
        "\n",
        "\n",
        "def to_ascii(text):\n",
        "    ascii_values = [ord(character) for character in text]\n",
        "    return ascii_values\n",
        "\n",
        "\n",
        "def semi_unic_value(text,L):\n",
        "  #Variables iniciales\n",
        "  result = salt = shf = 1\n",
        "  #Diferenciador\n",
        "  if(L%2 == 0):\n",
        "    salt = 3769496571161\n",
        "    shf = 3\n",
        "  else:\n",
        "    salt = 2654685342467\n",
        "    shf = 4\n",
        "  #Tramineto del Texto\n",
        "  text_rev = shift(text,shf)\n",
        "  text_inv = text_rev[::-1]\n",
        "  #Recorrinedo el Texto\n",
        "  for i in range(L):\n",
        "    f1 = ord(text[i])*L\n",
        "    f2 = ord(text_inv[i])*L\n",
        "    f3 = ord(text_rev[i])*(L+1)\n",
        "    result = f1*f2+result-f3\n",
        "  #Valor del Resultado\n",
        "  return result+salt\n",
        "\n",
        "\n",
        "def Num_to_Hash(n):\n",
        "  #Traspado del valores decimales a ASCII\n",
        "  result = ''\n",
        "  for i in range(55):\n",
        "    mod = n%(85+i+1)\n",
        "    x = mod%93+33\n",
        "    result = chr(x) + result \n",
        "  return result\n",
        "\n",
        "def Hash(text):\n",
        "  L = len(text)\n",
        "  # Se agrega Padding para que tenga un minimo de largo 10\n",
        "  if(L < 10):\n",
        "    text = Padding(text)\n",
        "    L = 10\n",
        "  return Num_to_Hash(semi_unic_value(text,L))\n",
        "\n",
        "\n",
        "#mpCHVXgJFLNjX`.L)|#+^X0|B7F<{+F<:$!X,X1`/+CZ:HupVtI0FX=\n",
        "#OdaPj@OdgLm\"X(y6wLD+:#$j5l(:3+0,1#L:)`+Bc+FHL+od*?\"3\\pI\n",
        "#))U_$UUS:ejm,]L,,1#[.EL7)iC+)=PuaU!.[5g)<@7-Lm/(x)1cPUL\n",
        "#('S=sko/e#f_l&n\"}Sd#nK$MU6\\Y=#Z?2S*/ZkSi##`_nF@&&K>OO><\n",
        "#uG#SK;m/8_uqJ[nk$/B-_KGq/2AK`#Y_8#_/#>,A<>K]>6jGXKSeN>U\n",
        "#l+Ny(Kh$u_P{A+-U,cZ_$;X**Gl3&K_63/F-IKr_S3;5-{w*0sKA_Nd\n",
        "\n",
        "#Uauw|QR+i$J-1!c1.iB'oq/iJu!#q$'U6u60O1r;>iEqBq]35LHQH!;\n",
        "#v=-G\\Q97*afQ;i'?AiiaHaOok$i4'9%{K-HE|1*@?0o\"'Qe<\"aH25!*\n",
        "\n",
        "\n",
        "#v'>G`E2c2=![h3!#`F)o*mNbji>w*`!E,>!_nc%!'vAK8&9vf3>)`w5\n",
        "#v'>G`E2c2=![h3!#`F)o*mNbji>w*`!E,>!_nc%!'vAK8&9vf3>)`w5\n",
        "#v'>G`E2c2=![h3!#`F)o*mNbji>w*`!E,>!_nc%!'vAK8&9vf3>)`w5"
      ],
      "metadata": {
        "id": "plk670WuvLNp"
      },
      "execution_count": 20,
      "outputs": []
    },
    {
      "cell_type": "markdown",
      "source": [
        "### Cifrado de Archivo"
      ],
      "metadata": {
        "id": "LemZGgBZJBf6"
      }
    },
    {
      "cell_type": "code",
      "source": [
        "import sys\n",
        "import io\n",
        "import codecs\n",
        "\n",
        "def FileHash(name):\n",
        "  filePath = \"./\"+name\n",
        "\n",
        "  with open(filePath, 'rb') as file:\n",
        "    fi  = io.FileIO(file.fileno())\n",
        "    fb = io.BufferedReader(fi)\n",
        "    result = codecs.encode(fb.read(),'hex_codec')\n",
        "    result = result.decode('ascii')\n",
        "\n",
        "    return result\n",
        "\n"
      ],
      "metadata": {
        "id": "FZUzvopMBUvb"
      },
      "execution_count": 2,
      "outputs": []
    },
    {
      "cell_type": "markdown",
      "source": [
        "### Cifrado de Interior de Texto"
      ],
      "metadata": {
        "id": "10AHneRhwW_m"
      }
    },
    {
      "cell_type": "code",
      "source": [
        "def ReadFileHash(name,t):\n",
        "  filePath = \"./\"+name\n",
        "  file1 = open(filePath, 'r')\n",
        "  count = 0\n",
        "    \n",
        "  while True:\n",
        "      count += 1\n",
        "      line = file1.readline()\n",
        "      if not line:\n",
        "          break\n",
        "      print(\"\\nTexto en Linea{}: {}\".format(count, line.strip()))\n",
        "      if(t == True):\n",
        "        h = Hash(line.strip())\n",
        "        print('Hash en Linea{}: {}'.format(count, h))\n",
        "        print('Entropia del Hash en Linea{}: {}'.format(count, Entropia(len(h),0)))\n",
        "      else:\n",
        "        print('Entropia en Linea{}: {}'.format(count, Entropia(len(line.strip()),0)))\n",
        "  return \n",
        "  file1.close()"
      ],
      "metadata": {
        "id": "nWeQsXtnu9in"
      },
      "execution_count": 18,
      "outputs": []
    },
    {
      "cell_type": "markdown",
      "source": [
        "### Calculo de Entropia"
      ],
      "metadata": {
        "id": "aVuqKLVFx0bB"
      }
    },
    {
      "cell_type": "code",
      "source": [
        "import math\n",
        "\n",
        "def Entropia(n,b):\n",
        "  if(b==0):\n",
        "    base_hash = 94\n",
        "  else:\n",
        "    base_hash = b\n",
        "  entropia = round(n*math.log2(base_hash),3)\n",
        "  return str(entropia)\n",
        "  "
      ],
      "metadata": {
        "id": "hgUZnEK0x0Mh"
      },
      "execution_count": 4,
      "outputs": []
    },
    {
      "cell_type": "markdown",
      "source": [
        "## Medidor"
      ],
      "metadata": {
        "id": "ppsuC9UB2ueI"
      }
    },
    {
      "cell_type": "markdown",
      "source": [
        "### MD5"
      ],
      "metadata": {
        "id": "_h6z2-0J9tJG"
      }
    },
    {
      "cell_type": "code",
      "source": [
        "\n",
        "import hashlib\n",
        "import time\n",
        "def md5_analizer(str2hash):\n",
        "  result = hashlib.md5(str2hash.encode())\n",
        "  return result"
      ],
      "metadata": {
        "id": "UttWlE8p2t8r"
      },
      "execution_count": 5,
      "outputs": []
    },
    {
      "cell_type": "markdown",
      "source": [
        "### SHA1"
      ],
      "metadata": {
        "id": "Sl6vzXxu9xml"
      }
    },
    {
      "cell_type": "code",
      "source": [
        "\n",
        "import hashlib\n",
        "import time\n",
        "def sha1_analizer(str2hash):  \n",
        "  result = hashlib.sha1(str2hash.encode())\n",
        "  return result"
      ],
      "metadata": {
        "id": "qEl40ZNB-EkE"
      },
      "execution_count": 6,
      "outputs": []
    },
    {
      "cell_type": "markdown",
      "source": [
        "### SHA-256"
      ],
      "metadata": {
        "id": "GT9JmVNk9vtn"
      }
    },
    {
      "cell_type": "code",
      "source": [
        "import hashlib\n",
        "def sha256_analizer(str2hash):\n",
        "  result = hashlib.sha256(str2hash.encode())\n",
        "  return result"
      ],
      "metadata": {
        "id": "31N0AvZA-HJ5"
      },
      "execution_count": 7,
      "outputs": []
    },
    {
      "cell_type": "markdown",
      "source": [
        "### Hash"
      ],
      "metadata": {
        "id": "ail5di7793Vf"
      }
    },
    {
      "cell_type": "code",
      "source": [
        "import time\n",
        "def hash_analizer(str2hash):\n",
        "  result = Hash(str2hash)\n",
        "  return result\n"
      ],
      "metadata": {
        "id": "Olz93jSJ_Y-k"
      },
      "execution_count": 8,
      "outputs": []
    },
    {
      "cell_type": "markdown",
      "source": [
        "### Lector de Archivo"
      ],
      "metadata": {
        "id": "1lxOXy2QCJnS"
      }
    },
    {
      "cell_type": "code",
      "source": [
        "import time\n",
        "def Analizer(name,hashtype,n):\n",
        "  filePath = \"./\"+name\n",
        "  file1 = open(filePath, 'r')\n",
        "  count = 0\n",
        "  a = time.perf_counter()  \n",
        "  while True:\n",
        "      count += 1\n",
        "      line = file1.readline()\n",
        "\n",
        "      if(hashtype == \"md5\"):\n",
        "        md5_analizer(line.strip())\n",
        "      elif(hashtype == \"sha1\"):\n",
        "        sha1_analizer(line.strip())\n",
        "      elif(hashtype == \"sha256\"):\n",
        "        sha256_analizer(line.strip())\n",
        "      elif(hashtype == \"hash\"):\n",
        "        hash_analizer(line.strip())\n",
        "      if not line or n == count:\n",
        "        break\n",
        "  file1.close()\n",
        "  b = time.perf_counter()\n",
        "  return str(b-a)"
      ],
      "metadata": {
        "id": "atAoEsOxCIgD"
      },
      "execution_count": 9,
      "outputs": []
    },
    {
      "cell_type": "markdown",
      "source": [
        "#Programa"
      ],
      "metadata": {
        "id": "P3U-QqPVotPm"
      }
    },
    {
      "cell_type": "markdown",
      "source": [
        "## Test de Hash"
      ],
      "metadata": {
        "id": "lP_qAqUJ1QJa"
      }
    },
    {
      "cell_type": "code",
      "source": [
        "from google.colab import files\n",
        "\n",
        "while True:\n",
        "  print(\"\\nSeleccione un de las siguientes Opciones: \\n\")\n",
        "  print(\"1.- Realizar Hash a un String\")\n",
        "  print(\"2.- Realizar Hash a varios String dentro de un Archivo de Texto\")\n",
        "  print(\"3.- Realizar Hash a un Archivo\")\n",
        "  print(\"4.- Entropia\")\n",
        "  print(\"5.- Salir\")\n",
        "\n",
        "  n = input(\"\\nIngrese el numero: \")\n",
        "  if(n == '1'):\n",
        "    text = input(\"Ingrese el String: \")\n",
        "    print(\"Texto ingresado: \",text)\n",
        "    h = Hash(text)\n",
        "    print('\\nHash: ',h)\n",
        "    print(\"Entropia del Hash: \",Entropia(len(h),0))\n",
        "  elif(n == '2'):\n",
        "    print(\"\\nSuba el archivo de Texto: \")\n",
        "    uploaded = files.upload()\n",
        "    if(uploaded):\n",
        "      filename = next(iter(uploaded))\n",
        "      print(\"\\nNombre del Archivo: \",filename)\n",
        "      ReadFileHash(filename,True)\n",
        "  elif(n == '3'):\n",
        "    print(\"\\nSuba el archivo: \")\n",
        "    uploaded = files.upload()\n",
        "    filename = next(iter(uploaded))\n",
        "    print(\"Nombre del Archivo: \",filename)\n",
        "    h = Hash(FileHash(filename))\n",
        "    print('Hash: ',h)\n",
        "    print(\"Entropia del Hash: \",Entropia(len(h),0))\n",
        "  elif(n == '4'):\n",
        "    print(\"\\n1.- Calcular Entropia a un String\")\n",
        "    print(\"2.- Calcular Entropia a varios String dentro de un Archivo de Texto\")\n",
        "    print(\"3.- Calcular Entropia a un Archivo\")\n",
        "    m = input(\"\\nIngrese el numero: \")\n",
        "    if(m == '1'):\n",
        "      text = input(\"Ingrese el String: \")\n",
        "      print(\"Texto ingresado: \",text)\n",
        "      print(\"Entropia: \",Entropia(len(text),0))\n",
        "    elif(m == '2'):\n",
        "      print(\"\\nSuba el archivo de Texto: \")\n",
        "      uploaded = files.upload()\n",
        "      if(uploaded):\n",
        "        filename = next(iter(uploaded))\n",
        "        print(\"\\nNombre del Archivo: \",filename)\n",
        "        ReadFileHash(filename,False)\n",
        "    elif(m == '3'):\n",
        "      print(\"\\nSuba el archivo: \")\n",
        "      uploaded = files.upload()\n",
        "      filename = next(iter(uploaded))\n",
        "      print(\"Nombre del Archivo: \",filename)\n",
        "      h = FileHash(filename)\n",
        "      print(\"Entropia: \",Entropia(len(h),0))\n",
        "    else:\n",
        "      print(\"\\n Opcion no Valida inngresa una de las opciones disponibles\")\n",
        "  elif(n == '5'):\n",
        "    break\n",
        "  else:\n",
        "    print(\"\\n Opcion no Valida inngresa una de las opciones disponibles\")\n",
        "\n",
        "\n"
      ],
      "metadata": {
        "colab": {
          "resources": {
            "http://localhost:8080/nbextensions/google.colab/files.js": {
              "data": "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",
              "ok": true,
              "headers": [
                [
                  "content-type",
                  "application/javascript"
                ]
              ],
              "status": 200,
              "status_text": ""
            }
          },
          "base_uri": "https://localhost:8080/",
          "height": 1000
        },
        "id": "NyNbaxEyB1Ia",
        "outputId": "d765fdee-7417-439b-ac9b-c820eee56698"
      },
      "execution_count": 30,
      "outputs": [
        {
          "output_type": "stream",
          "name": "stdout",
          "text": [
            "\n",
            "Seleccione un de las siguientes Opciones: \n",
            "\n",
            "1.- Realizar Hash a un String\n",
            "2.- Realizar Hash a varios String dentro de un Archivo de Texto\n",
            "3.- Realizar Hash a un Archivo\n",
            "4.- Entropia\n",
            "5.- Salir\n",
            "\n",
            "Ingrese el numero: 2\n",
            "\n",
            "Suba el archivo de Texto: \n"
          ]
        },
        {
          "output_type": "display_data",
          "data": {
            "text/plain": [
              "<IPython.core.display.HTML object>"
            ],
            "text/html": [
              "\n",
              "     <input type=\"file\" id=\"files-13bc3f6a-6464-4d00-8bfe-c7034d26fcf1\" name=\"files[]\" multiple disabled\n",
              "        style=\"border:none\" />\n",
              "     <output id=\"result-13bc3f6a-6464-4d00-8bfe-c7034d26fcf1\">\n",
              "      Upload widget is only available when the cell has been executed in the\n",
              "      current browser session. Please rerun this cell to enable.\n",
              "      </output>\n",
              "      <script src=\"/nbextensions/google.colab/files.js\"></script> "
            ]
          },
          "metadata": {}
        },
        {
          "name": "stdout",
          "output_type": "stream",
          "text": [
            "Saving testHash.txt to testHash (8).txt\n",
            "\n",
            "Nombre del Archivo:  testHash.txt\n",
            "\n",
            "Texto en Linea1: asdfghjkl\n",
            "Hash en Linea1: __MN22w3&;#V\"3_P2&(6_mEq\"d}%_&A<&m{_Wy)77&mh_}O2{J_qWb+\n",
            "Entropia del Hash en Linea1: 360.502\n",
            "\n",
            "Texto en Linea2: asdfghjkl\n",
            "Hash en Linea2: __MN22w3&;#V\"3_P2&(6_mEq\"d}%_&A<&m{_Wy)77&mh_}O2{J_qWb+\n",
            "Entropia del Hash en Linea2: 360.502\n",
            "\n",
            "Texto en Linea3: testdeHASH@HASH123456\n",
            "Hash en Linea3: TPzt?)4T;jh&|Jb\"Pq/;,iH2,cz#/t@*PD|w4Cz#T5T%\\THPL[,4l,&\n",
            "Entropia del Hash en Linea3: 360.502\n",
            "\n",
            "Texto en Linea4: t3stdeH4SH@HASH123456\n",
            "Hash en Linea4: T,D0?)jb;g^&?{b=`#RV,ijk0rb\"/&@RP-'wD]z,h5b?\\O,AD*,6lMX\n",
            "Entropia del Hash en Linea4: 360.502\n",
            "\n",
            "Texto en Linea5: tes7deHASH@HASH123456\n",
            "Hash en Linea5: 6df[53HYfM=N276^FZ/Er=h?nOl\\RE|9ZS|62uN}^$6BrYf'fY6?:QN\n",
            "Entropia del Hash en Linea5: 360.502\n",
            "\n",
            "Texto en Linea6: a\n",
            "Hash en Linea6: BK>@!DT^><.AF/P09P1uV2/b-&8F&GjU)T@e.%\\'B>43&8Tw>;tG>Pl\n",
            "Entropia del Hash en Linea6: 360.502\n",
            "\n",
            "Texto en Linea7: aa\n",
            "Hash en Linea7: ,knZ\\GT3DI=_l1#@;q$D,:P#X@5!,>)Z8M@,LL\\|@e:/,Y@;@%JcD;4\n",
            "Entropia del Hash en Linea7: 360.502\n",
            "\n",
            "Texto en Linea8: aaa\n",
            "Hash en Linea8: @ewlq/]-)9CbAQeaqwO/,-IwE1S1$_khe$#z)!qjaJ;@Af9qIP/O)b7\n",
            "Entropia del Hash en Linea8: 360.502\n",
            "\n",
            "Seleccione un de las siguientes Opciones: \n",
            "\n",
            "1.- Realizar Hash a un String\n",
            "2.- Realizar Hash a varios String dentro de un Archivo de Texto\n",
            "3.- Realizar Hash a un Archivo\n",
            "4.- Entropia\n",
            "5.- Salir\n",
            "\n",
            "Ingrese el numero: 5\n"
          ]
        }
      ]
    },
    {
      "cell_type": "markdown",
      "source": [
        "## Comparativas"
      ],
      "metadata": {
        "id": "uOT1qcTGbODx"
      }
    },
    {
      "cell_type": "markdown",
      "source": [
        "Teniendo en cuenta el peso del archivo \"rockyou.txt\", se creo un archivo de texto \"rockyou_mini.txt\" para realizar las pruebas  "
      ],
      "metadata": {
        "id": "7ztiZnstGSzt"
      }
    },
    {
      "cell_type": "code",
      "source": [
        "from google.colab import files\n",
        "uploaded = files.upload()\n",
        "if(uploaded):\n",
        "  filename = next(iter(uploaded))\n",
        "  print(\"\\nNombre del Archivo: \",filename)\n",
        "  \n",
        "  #Caso 1 Linea de Texto\n",
        "  print(\"\\n Caso de 1 Linea\")\n",
        "  print('Resultado Tiempo MD5: ', Analizer(filename,'md5',1))\n",
        "  print('Resultado Tiempo SHA1: ',  Analizer(filename,'sha1',1))\n",
        "  print('Resultado Tiempo SHA256: ',  Analizer(filename,'sha256',1))\n",
        "  print('Resultado Tiempo Hash: ',  Analizer(filename,'hash',1))\n",
        "\n",
        "  #Caso 10 Linea de Texto\n",
        "  print(\"\\n Caso de 10 Lineas\")\n",
        "  print('Resultado Tiempo MD5: ', Analizer(filename,'md5',10))\n",
        "  print('Resultado Tiempo SHA1: ',  Analizer(filename,'sha1',10))\n",
        "  print('Resultado Tiempo SHA256: ',  Analizer(filename,'sha256',10))\n",
        "  print('Resultado Tiempo Hash: ',  Analizer(filename,'hash',10))\n",
        "\n",
        "  #Caso 20 Linea de Texto\n",
        "  print(\"\\n Caso de 20 Lineas\")\n",
        "  print('Resultado Tiempo MD5: ', Analizer(filename,'md5',20))\n",
        "  print('Resultado Tiempo SHA1: ',  Analizer(filename,'sha1',20))\n",
        "  print('Resultado Tiempo SHA256: ',  Analizer(filename,'sha256',20))\n",
        "  print('Resultado Tiempo Hash: ',  Analizer(filename,'hash',20))\n",
        "\n",
        "  #Caso 50 Linea de Texto\n",
        "  print(\"\\n Caso de 50 Lineas\")\n",
        "  print('Resultado Tiempo MD5: ', Analizer(filename,'md5',50))\n",
        "  print('Resultado Tiempo SHA1: ',  Analizer(filename,'sha1',50))\n",
        "  print('Resultado Tiempo SHA256: ',  Analizer(filename,'sha256',50))\n",
        "  print('Resultado Tiempo Hash: ',  Analizer(filename,'hash',50))\n",
        "\n"
      ],
      "metadata": {
        "colab": {
          "resources": {
            "http://localhost:8080/nbextensions/google.colab/files.js": {
              "data": "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",
              "ok": true,
              "headers": [
                [
                  "content-type",
                  "application/javascript"
                ]
              ],
              "status": 200,
              "status_text": ""
            }
          },
          "base_uri": "https://localhost:8080/",
          "height": 524
        },
        "id": "wcfzxs1vBrad",
        "outputId": "179e29fc-d917-4f0a-faeb-9c9e155b92fc"
      },
      "execution_count": 24,
      "outputs": [
        {
          "output_type": "display_data",
          "data": {
            "text/plain": [
              "<IPython.core.display.HTML object>"
            ],
            "text/html": [
              "\n",
              "     <input type=\"file\" id=\"files-55a04681-414e-4935-a7c5-d318ea1d26b2\" name=\"files[]\" multiple disabled\n",
              "        style=\"border:none\" />\n",
              "     <output id=\"result-55a04681-414e-4935-a7c5-d318ea1d26b2\">\n",
              "      Upload widget is only available when the cell has been executed in the\n",
              "      current browser session. Please rerun this cell to enable.\n",
              "      </output>\n",
              "      <script src=\"/nbextensions/google.colab/files.js\"></script> "
            ]
          },
          "metadata": {}
        },
        {
          "output_type": "stream",
          "name": "stdout",
          "text": [
            "Saving rockyou_mini.txt to rockyou_mini (1).txt\n",
            "\n",
            "Nombre del Archivo:  rockyou_mini.txt\n",
            "\n",
            " Caso de 1 Linea\n",
            "Resultado Tiempo MD5:  7.0807000156492e-05\n",
            "Resultado Tiempo SHA1:  0.00010874100007640664\n",
            "Resultado Tiempo SHA256:  4.122500013181707e-05\n",
            "Resultado Tiempo Hash:  7.943000036902959e-05\n",
            "\n",
            " Caso de 10 Lineas\n",
            "Resultado Tiempo MD5:  6.401900009223027e-05\n",
            "Resultado Tiempo SHA1:  6.175299949973123e-05\n",
            "Resultado Tiempo SHA256:  6.186300015542656e-05\n",
            "Resultado Tiempo Hash:  0.0003590339993024827\n",
            "\n",
            " Caso de 20 Lineas\n",
            "Resultado Tiempo MD5:  8.567199984099716e-05\n",
            "Resultado Tiempo SHA1:  0.00034410199987178203\n",
            "Resultado Tiempo SHA256:  7.792300039000111e-05\n",
            "Resultado Tiempo Hash:  0.0011734639992937446\n",
            "\n",
            " Caso de 50 Lineas\n",
            "Resultado Tiempo MD5:  0.00010634400041453773\n",
            "Resultado Tiempo SHA1:  0.00041387200053577544\n",
            "Resultado Tiempo SHA256:  0.00066390899974067\n",
            "Resultado Tiempo Hash:  0.0020029520001116907\n"
          ]
        }
      ]
    }
  ]
}